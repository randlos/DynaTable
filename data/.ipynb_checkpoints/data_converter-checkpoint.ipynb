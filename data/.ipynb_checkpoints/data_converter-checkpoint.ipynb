{
 "cells": [
  {
   "cell_type": "code",
   "execution_count": 263,
   "metadata": {},
   "outputs": [],
   "source": [
    "import pandas as pd\n",
    "import numpy as np"
   ]
  },
  {
   "cell_type": "markdown",
   "metadata": {},
   "source": [
    "## Alle Daten"
   ]
  },
  {
   "cell_type": "code",
   "execution_count": 264,
   "metadata": {},
   "outputs": [],
   "source": [
    "#data = pd.read_excel(\"karneval-kalorien_bereinigt_mit_Hersteller.xlsx\")"
   ]
  },
  {
   "cell_type": "markdown",
   "metadata": {},
   "source": [
    "# Ausgewählte Daten inkl. fotos"
   ]
  },
  {
   "cell_type": "code",
   "execution_count": 265,
   "metadata": {},
   "outputs": [],
   "source": [
    "data = data = pd.read_excel(\"Schokoriegel_Auswahl Tom_int.xlsx\")"
   ]
  },
  {
   "cell_type": "code",
   "execution_count": 266,
   "metadata": {},
   "outputs": [
    {
     "data": {
      "text/plain": [
       "Index(['Foto', 'Supermarkt', 'Hersteller', 'Name', 'Kalorien in kcal',\n",
       "       'Fett in g', 'Kohlenhydrate in g', 'Zucker in g'],\n",
       "      dtype='object')"
      ]
     },
     "execution_count": 266,
     "metadata": {},
     "output_type": "execute_result"
    }
   ],
   "source": [
    "data.columns"
   ]
  },
  {
   "cell_type": "code",
   "execution_count": 267,
   "metadata": {},
   "outputs": [],
   "source": [
    "#data = data[['Name','Hersteller', 'Fett in g', 'Zucker in g']]"
   ]
  },
  {
   "cell_type": "code",
   "execution_count": 268,
   "metadata": {},
   "outputs": [],
   "source": [
    "#data = data.reindex(data.index.rename(['Platzierung']))"
   ]
  },
  {
   "cell_type": "code",
   "execution_count": 269,
   "metadata": {},
   "outputs": [],
   "source": [
    "#data.index = data['Name']"
   ]
  },
  {
   "cell_type": "code",
   "execution_count": 270,
   "metadata": {},
   "outputs": [],
   "source": [
    "#data.drop(columns=data['data'], axis=1)"
   ]
  },
  {
   "cell_type": "markdown",
   "metadata": {},
   "source": [
    "## Name/Rename Index"
   ]
  },
  {
   "cell_type": "code",
   "execution_count": 271,
   "metadata": {},
   "outputs": [],
   "source": [
    "#data.index.name = 'Index'"
   ]
  },
  {
   "cell_type": "code",
   "execution_count": 272,
   "metadata": {},
   "outputs": [],
   "source": [
    "#data.set_index(data['Name'])"
   ]
  },
  {
   "cell_type": "markdown",
   "metadata": {},
   "source": [
    "## Get Length of Pandas Rows"
   ]
  },
  {
   "cell_type": "code",
   "execution_count": 273,
   "metadata": {},
   "outputs": [
    {
     "data": {
      "text/plain": [
       "29"
      ]
     },
     "execution_count": 273,
     "metadata": {},
     "output_type": "execute_result"
    }
   ],
   "source": [
    "len(data.index)"
   ]
  },
  {
   "cell_type": "markdown",
   "metadata": {},
   "source": [
    "## Add Foto-Columns"
   ]
  },
  {
   "cell_type": "code",
   "execution_count": 274,
   "metadata": {},
   "outputs": [],
   "source": [
    "#data['Fotos'] = \"\" #np.arange(len(data.index))"
   ]
  },
  {
   "cell_type": "code",
   "execution_count": 275,
   "metadata": {},
   "outputs": [
    {
     "data": {
      "text/html": [
       "<div>\n",
       "<style scoped>\n",
       "    .dataframe tbody tr th:only-of-type {\n",
       "        vertical-align: middle;\n",
       "    }\n",
       "\n",
       "    .dataframe tbody tr th {\n",
       "        vertical-align: top;\n",
       "    }\n",
       "\n",
       "    .dataframe thead th {\n",
       "        text-align: right;\n",
       "    }\n",
       "</style>\n",
       "<table border=\"1\" class=\"dataframe\">\n",
       "  <thead>\n",
       "    <tr style=\"text-align: right;\">\n",
       "      <th></th>\n",
       "      <th>Foto</th>\n",
       "      <th>Supermarkt</th>\n",
       "      <th>Hersteller</th>\n",
       "      <th>Name</th>\n",
       "      <th>Kalorien in kcal</th>\n",
       "      <th>Fett in g</th>\n",
       "      <th>Kohlenhydrate in g</th>\n",
       "      <th>Zucker in g</th>\n",
       "    </tr>\n",
       "  </thead>\n",
       "  <tbody>\n",
       "    <tr>\n",
       "      <th>0</th>\n",
       "      <td>https://bilder.ams3.cdn.digitaloceanspaces.com...</td>\n",
       "      <td>Diverse</td>\n",
       "      <td>Mars GmbH</td>\n",
       "      <td>Twix</td>\n",
       "      <td>492</td>\n",
       "      <td>24.0</td>\n",
       "      <td>65.0</td>\n",
       "      <td>49.0</td>\n",
       "    </tr>\n",
       "    <tr>\n",
       "      <th>1</th>\n",
       "      <td>https://bilder.ams3.cdn.digitaloceanspaces.com...</td>\n",
       "      <td>Diverse</td>\n",
       "      <td>Mars GmbH</td>\n",
       "      <td>Mars</td>\n",
       "      <td>449</td>\n",
       "      <td>16.6</td>\n",
       "      <td>70.2</td>\n",
       "      <td>61.7</td>\n",
       "    </tr>\n",
       "    <tr>\n",
       "      <th>2</th>\n",
       "      <td>https://bilder.ams3.cdn.digitaloceanspaces.com...</td>\n",
       "      <td>Diverse</td>\n",
       "      <td>Mars GmbH</td>\n",
       "      <td>Snickers</td>\n",
       "      <td>481</td>\n",
       "      <td>23.0</td>\n",
       "      <td>61.0</td>\n",
       "      <td>52.0</td>\n",
       "    </tr>\n",
       "    <tr>\n",
       "      <th>3</th>\n",
       "      <td>https://bilder.ams3.cdn.digitaloceanspaces.com...</td>\n",
       "      <td>Diverse</td>\n",
       "      <td>Mars GmbH</td>\n",
       "      <td>Bounty</td>\n",
       "      <td>487</td>\n",
       "      <td>26.0</td>\n",
       "      <td>59.0</td>\n",
       "      <td>48.0</td>\n",
       "    </tr>\n",
       "    <tr>\n",
       "      <th>4</th>\n",
       "      <td>https://bilder.ams3.cdn.digitaloceanspaces.com...</td>\n",
       "      <td>Diverse</td>\n",
       "      <td>Storck</td>\n",
       "      <td>Knoppers NussRiegel</td>\n",
       "      <td>535</td>\n",
       "      <td>31.8</td>\n",
       "      <td>52.3</td>\n",
       "      <td>38.3</td>\n",
       "    </tr>\n",
       "  </tbody>\n",
       "</table>\n",
       "</div>"
      ],
      "text/plain": [
       "                                                Foto Supermarkt Hersteller  \\\n",
       "0  https://bilder.ams3.cdn.digitaloceanspaces.com...    Diverse  Mars GmbH   \n",
       "1  https://bilder.ams3.cdn.digitaloceanspaces.com...    Diverse  Mars GmbH   \n",
       "2  https://bilder.ams3.cdn.digitaloceanspaces.com...    Diverse  Mars GmbH   \n",
       "3  https://bilder.ams3.cdn.digitaloceanspaces.com...    Diverse  Mars GmbH   \n",
       "4  https://bilder.ams3.cdn.digitaloceanspaces.com...    Diverse     Storck   \n",
       "\n",
       "                  Name  Kalorien in kcal  Fett in g  Kohlenhydrate in g  \\\n",
       "0                 Twix               492       24.0                65.0   \n",
       "1                 Mars               449       16.6                70.2   \n",
       "2             Snickers               481       23.0                61.0   \n",
       "3               Bounty               487       26.0                59.0   \n",
       "4  Knoppers NussRiegel               535       31.8                52.3   \n",
       "\n",
       "   Zucker in g  \n",
       "0         49.0  \n",
       "1         61.7  \n",
       "2         52.0  \n",
       "3         48.0  \n",
       "4         38.3  "
      ]
     },
     "execution_count": 275,
     "metadata": {},
     "output_type": "execute_result"
    }
   ],
   "source": [
    "data.head()"
   ]
  },
  {
   "cell_type": "markdown",
   "metadata": {},
   "source": [
    "## Add Fotos"
   ]
  },
  {
   "cell_type": "code",
   "execution_count": 276,
   "metadata": {},
   "outputs": [],
   "source": [
    "#data['Fotos'] = data.Fotos.apply(lambda x: \"https://bilder.ams3.cdn.digitaloceanspaces.com/Aldi_SelectionMini_Chrispy-Bits__DSC1486.jpg\")\n",
    "#data.at[0, 'Fotos'] = \"https://bilder.ams3.cdn.digitaloceanspaces.com/Aldi_SelectionMini_Chrispy-Bits__DSC1486.jpg\"\n",
    "#data.at[1, 'Fotos'] = \"https://bilder.ams3.cdn.digitaloceanspaces.com/LIDL_MC_Choco_Caramel_DSC1480.jpg\"\n",
    "#data.at[2, 'Fotos'] = \"https://bilder.ams3.cdn.digitaloceanspaces.com/Aldi_Peanut-Bits_DSC1491.jpg\"\n"
   ]
  },
  {
   "cell_type": "markdown",
   "metadata": {},
   "source": [
    "## Result"
   ]
  },
  {
   "cell_type": "code",
   "execution_count": 277,
   "metadata": {},
   "outputs": [
    {
     "data": {
      "text/html": [
       "<div>\n",
       "<style scoped>\n",
       "    .dataframe tbody tr th:only-of-type {\n",
       "        vertical-align: middle;\n",
       "    }\n",
       "\n",
       "    .dataframe tbody tr th {\n",
       "        vertical-align: top;\n",
       "    }\n",
       "\n",
       "    .dataframe thead th {\n",
       "        text-align: right;\n",
       "    }\n",
       "</style>\n",
       "<table border=\"1\" class=\"dataframe\">\n",
       "  <thead>\n",
       "    <tr style=\"text-align: right;\">\n",
       "      <th></th>\n",
       "      <th>Foto</th>\n",
       "      <th>Supermarkt</th>\n",
       "      <th>Hersteller</th>\n",
       "      <th>Name</th>\n",
       "      <th>Kalorien in kcal</th>\n",
       "      <th>Fett in g</th>\n",
       "      <th>Kohlenhydrate in g</th>\n",
       "      <th>Zucker in g</th>\n",
       "    </tr>\n",
       "  </thead>\n",
       "  <tbody>\n",
       "    <tr>\n",
       "      <th>0</th>\n",
       "      <td>https://bilder.ams3.cdn.digitaloceanspaces.com...</td>\n",
       "      <td>Diverse</td>\n",
       "      <td>Mars GmbH</td>\n",
       "      <td>Twix</td>\n",
       "      <td>492</td>\n",
       "      <td>24.0</td>\n",
       "      <td>65.0</td>\n",
       "      <td>49.0</td>\n",
       "    </tr>\n",
       "    <tr>\n",
       "      <th>1</th>\n",
       "      <td>https://bilder.ams3.cdn.digitaloceanspaces.com...</td>\n",
       "      <td>Diverse</td>\n",
       "      <td>Mars GmbH</td>\n",
       "      <td>Mars</td>\n",
       "      <td>449</td>\n",
       "      <td>16.6</td>\n",
       "      <td>70.2</td>\n",
       "      <td>61.7</td>\n",
       "    </tr>\n",
       "    <tr>\n",
       "      <th>2</th>\n",
       "      <td>https://bilder.ams3.cdn.digitaloceanspaces.com...</td>\n",
       "      <td>Diverse</td>\n",
       "      <td>Mars GmbH</td>\n",
       "      <td>Snickers</td>\n",
       "      <td>481</td>\n",
       "      <td>23.0</td>\n",
       "      <td>61.0</td>\n",
       "      <td>52.0</td>\n",
       "    </tr>\n",
       "    <tr>\n",
       "      <th>3</th>\n",
       "      <td>https://bilder.ams3.cdn.digitaloceanspaces.com...</td>\n",
       "      <td>Diverse</td>\n",
       "      <td>Mars GmbH</td>\n",
       "      <td>Bounty</td>\n",
       "      <td>487</td>\n",
       "      <td>26.0</td>\n",
       "      <td>59.0</td>\n",
       "      <td>48.0</td>\n",
       "    </tr>\n",
       "    <tr>\n",
       "      <th>4</th>\n",
       "      <td>https://bilder.ams3.cdn.digitaloceanspaces.com...</td>\n",
       "      <td>Diverse</td>\n",
       "      <td>Storck</td>\n",
       "      <td>Knoppers NussRiegel</td>\n",
       "      <td>535</td>\n",
       "      <td>31.8</td>\n",
       "      <td>52.3</td>\n",
       "      <td>38.3</td>\n",
       "    </tr>\n",
       "  </tbody>\n",
       "</table>\n",
       "</div>"
      ],
      "text/plain": [
       "                                                Foto Supermarkt Hersteller  \\\n",
       "0  https://bilder.ams3.cdn.digitaloceanspaces.com...    Diverse  Mars GmbH   \n",
       "1  https://bilder.ams3.cdn.digitaloceanspaces.com...    Diverse  Mars GmbH   \n",
       "2  https://bilder.ams3.cdn.digitaloceanspaces.com...    Diverse  Mars GmbH   \n",
       "3  https://bilder.ams3.cdn.digitaloceanspaces.com...    Diverse  Mars GmbH   \n",
       "4  https://bilder.ams3.cdn.digitaloceanspaces.com...    Diverse     Storck   \n",
       "\n",
       "                  Name  Kalorien in kcal  Fett in g  Kohlenhydrate in g  \\\n",
       "0                 Twix               492       24.0                65.0   \n",
       "1                 Mars               449       16.6                70.2   \n",
       "2             Snickers               481       23.0                61.0   \n",
       "3               Bounty               487       26.0                59.0   \n",
       "4  Knoppers NussRiegel               535       31.8                52.3   \n",
       "\n",
       "   Zucker in g  \n",
       "0         49.0  \n",
       "1         61.7  \n",
       "2         52.0  \n",
       "3         48.0  \n",
       "4         38.3  "
      ]
     },
     "execution_count": 277,
     "metadata": {},
     "output_type": "execute_result"
    }
   ],
   "source": [
    "data.head()"
   ]
  },
  {
   "cell_type": "markdown",
   "metadata": {},
   "source": [
    "## Rearrange Columns"
   ]
  },
  {
   "cell_type": "code",
   "execution_count": 278,
   "metadata": {},
   "outputs": [
    {
     "ename": "KeyError",
     "evalue": "\"['davon Zucker in g'] not in index\"",
     "output_type": "error",
     "traceback": [
      "\u001b[0;31m---------------------------------------------------------------------------\u001b[0m",
      "\u001b[0;31mKeyError\u001b[0m                                  Traceback (most recent call last)",
      "\u001b[0;32m<ipython-input-278-ca019aedebb1>\u001b[0m in \u001b[0;36m<module>\u001b[0;34m\u001b[0m\n\u001b[0;32m----> 1\u001b[0;31m \u001b[0mdata\u001b[0m \u001b[0;34m=\u001b[0m \u001b[0mdata\u001b[0m\u001b[0;34m[\u001b[0m\u001b[0;34m[\u001b[0m\u001b[0;34m'Foto'\u001b[0m\u001b[0;34m,\u001b[0m\u001b[0;34m'Name'\u001b[0m\u001b[0;34m,\u001b[0m\u001b[0;34m'Hersteller'\u001b[0m\u001b[0;34m,\u001b[0m \u001b[0;34m'Fett in g'\u001b[0m\u001b[0;34m,\u001b[0m \u001b[0;34m'davon Zucker in g'\u001b[0m\u001b[0;34m]\u001b[0m\u001b[0;34m]\u001b[0m\u001b[0;34m\u001b[0m\u001b[0m\n\u001b[0m",
      "\u001b[0;32m~/Data/Anaconda/anaconda/envs/data/lib/python3.6/site-packages/pandas/core/frame.py\u001b[0m in \u001b[0;36m__getitem__\u001b[0;34m(self, key)\u001b[0m\n\u001b[1;32m   2680\u001b[0m         \u001b[0;32mif\u001b[0m \u001b[0misinstance\u001b[0m\u001b[0;34m(\u001b[0m\u001b[0mkey\u001b[0m\u001b[0;34m,\u001b[0m \u001b[0;34m(\u001b[0m\u001b[0mSeries\u001b[0m\u001b[0;34m,\u001b[0m \u001b[0mnp\u001b[0m\u001b[0;34m.\u001b[0m\u001b[0mndarray\u001b[0m\u001b[0;34m,\u001b[0m \u001b[0mIndex\u001b[0m\u001b[0;34m,\u001b[0m \u001b[0mlist\u001b[0m\u001b[0;34m)\u001b[0m\u001b[0;34m)\u001b[0m\u001b[0;34m:\u001b[0m\u001b[0;34m\u001b[0m\u001b[0m\n\u001b[1;32m   2681\u001b[0m             \u001b[0;31m# either boolean or fancy integer index\u001b[0m\u001b[0;34m\u001b[0m\u001b[0;34m\u001b[0m\u001b[0m\n\u001b[0;32m-> 2682\u001b[0;31m             \u001b[0;32mreturn\u001b[0m \u001b[0mself\u001b[0m\u001b[0;34m.\u001b[0m\u001b[0m_getitem_array\u001b[0m\u001b[0;34m(\u001b[0m\u001b[0mkey\u001b[0m\u001b[0;34m)\u001b[0m\u001b[0;34m\u001b[0m\u001b[0m\n\u001b[0m\u001b[1;32m   2683\u001b[0m         \u001b[0;32melif\u001b[0m \u001b[0misinstance\u001b[0m\u001b[0;34m(\u001b[0m\u001b[0mkey\u001b[0m\u001b[0;34m,\u001b[0m \u001b[0mDataFrame\u001b[0m\u001b[0;34m)\u001b[0m\u001b[0;34m:\u001b[0m\u001b[0;34m\u001b[0m\u001b[0m\n\u001b[1;32m   2684\u001b[0m             \u001b[0;32mreturn\u001b[0m \u001b[0mself\u001b[0m\u001b[0;34m.\u001b[0m\u001b[0m_getitem_frame\u001b[0m\u001b[0;34m(\u001b[0m\u001b[0mkey\u001b[0m\u001b[0;34m)\u001b[0m\u001b[0;34m\u001b[0m\u001b[0m\n",
      "\u001b[0;32m~/Data/Anaconda/anaconda/envs/data/lib/python3.6/site-packages/pandas/core/frame.py\u001b[0m in \u001b[0;36m_getitem_array\u001b[0;34m(self, key)\u001b[0m\n\u001b[1;32m   2724\u001b[0m             \u001b[0;32mreturn\u001b[0m \u001b[0mself\u001b[0m\u001b[0;34m.\u001b[0m\u001b[0m_take\u001b[0m\u001b[0;34m(\u001b[0m\u001b[0mindexer\u001b[0m\u001b[0;34m,\u001b[0m \u001b[0maxis\u001b[0m\u001b[0;34m=\u001b[0m\u001b[0;36m0\u001b[0m\u001b[0;34m)\u001b[0m\u001b[0;34m\u001b[0m\u001b[0m\n\u001b[1;32m   2725\u001b[0m         \u001b[0;32melse\u001b[0m\u001b[0;34m:\u001b[0m\u001b[0;34m\u001b[0m\u001b[0m\n\u001b[0;32m-> 2726\u001b[0;31m             \u001b[0mindexer\u001b[0m \u001b[0;34m=\u001b[0m \u001b[0mself\u001b[0m\u001b[0;34m.\u001b[0m\u001b[0mloc\u001b[0m\u001b[0;34m.\u001b[0m\u001b[0m_convert_to_indexer\u001b[0m\u001b[0;34m(\u001b[0m\u001b[0mkey\u001b[0m\u001b[0;34m,\u001b[0m \u001b[0maxis\u001b[0m\u001b[0;34m=\u001b[0m\u001b[0;36m1\u001b[0m\u001b[0;34m)\u001b[0m\u001b[0;34m\u001b[0m\u001b[0m\n\u001b[0m\u001b[1;32m   2727\u001b[0m             \u001b[0;32mreturn\u001b[0m \u001b[0mself\u001b[0m\u001b[0;34m.\u001b[0m\u001b[0m_take\u001b[0m\u001b[0;34m(\u001b[0m\u001b[0mindexer\u001b[0m\u001b[0;34m,\u001b[0m \u001b[0maxis\u001b[0m\u001b[0;34m=\u001b[0m\u001b[0;36m1\u001b[0m\u001b[0;34m)\u001b[0m\u001b[0;34m\u001b[0m\u001b[0m\n\u001b[1;32m   2728\u001b[0m \u001b[0;34m\u001b[0m\u001b[0m\n",
      "\u001b[0;32m~/Data/Anaconda/anaconda/envs/data/lib/python3.6/site-packages/pandas/core/indexing.py\u001b[0m in \u001b[0;36m_convert_to_indexer\u001b[0;34m(self, obj, axis, is_setter)\u001b[0m\n\u001b[1;32m   1325\u001b[0m                 \u001b[0;32mif\u001b[0m \u001b[0mmask\u001b[0m\u001b[0;34m.\u001b[0m\u001b[0many\u001b[0m\u001b[0;34m(\u001b[0m\u001b[0;34m)\u001b[0m\u001b[0;34m:\u001b[0m\u001b[0;34m\u001b[0m\u001b[0m\n\u001b[1;32m   1326\u001b[0m                     raise KeyError('{mask} not in index'\n\u001b[0;32m-> 1327\u001b[0;31m                                    .format(mask=objarr[mask]))\n\u001b[0m\u001b[1;32m   1328\u001b[0m \u001b[0;34m\u001b[0m\u001b[0m\n\u001b[1;32m   1329\u001b[0m                 \u001b[0;32mreturn\u001b[0m \u001b[0mcom\u001b[0m\u001b[0;34m.\u001b[0m\u001b[0m_values_from_object\u001b[0m\u001b[0;34m(\u001b[0m\u001b[0mindexer\u001b[0m\u001b[0;34m)\u001b[0m\u001b[0;34m\u001b[0m\u001b[0m\n",
      "\u001b[0;31mKeyError\u001b[0m: \"['davon Zucker in g'] not in index\""
     ]
    }
   ],
   "source": [
    "data = data[['Foto','Name','Hersteller', 'Fett in g', 'Zucker in g']]"
   ]
  },
  {
   "cell_type": "code",
   "execution_count": null,
   "metadata": {},
   "outputs": [],
   "source": [
    "data.head()"
   ]
  },
  {
   "cell_type": "code",
   "execution_count": null,
   "metadata": {},
   "outputs": [],
   "source": []
  },
  {
   "cell_type": "markdown",
   "metadata": {},
   "source": [
    "## Export CSV without Index and comma-separated"
   ]
  },
  {
   "cell_type": "code",
   "execution_count": null,
   "metadata": {},
   "outputs": [],
   "source": [
    "data.to_csv(\"Data.csv\", sep=\",\", index=False)"
   ]
  },
  {
   "cell_type": "markdown",
   "metadata": {},
   "source": [
    "## Export XLSX without Index and comma-separated"
   ]
  },
  {
   "cell_type": "code",
   "execution_count": null,
   "metadata": {},
   "outputs": [],
   "source": [
    "#data.to_excel(\"Data.xlsx\", index=False)"
   ]
  },
  {
   "cell_type": "code",
   "execution_count": null,
   "metadata": {},
   "outputs": [],
   "source": []
  }
 ],
 "metadata": {
  "kernelspec": {
   "display_name": "Python 3",
   "language": "python",
   "name": "python3"
  },
  "language_info": {
   "codemirror_mode": {
    "name": "ipython",
    "version": 3
   },
   "file_extension": ".py",
   "mimetype": "text/x-python",
   "name": "python",
   "nbconvert_exporter": "python",
   "pygments_lexer": "ipython3",
   "version": "3.6.0"
  }
 },
 "nbformat": 4,
 "nbformat_minor": 2
}
